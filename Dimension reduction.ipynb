{
 "cells": [
  {
   "cell_type": "markdown",
   "id": "b0894c8c",
   "metadata": {},
   "source": [
    "# Imports"
   ]
  },
  {
   "cell_type": "code",
   "execution_count": null,
   "id": "f48a8210",
   "metadata": {},
   "outputs": [],
   "source": [
    "import math\n",
    "import numpy as np\n",
    "import pandas as pd\n",
    "import seaborn as sns\n",
    "import matplotlib.pyplot as plt\n",
    "from analysis.dim_reduction import Data\n",
    "from scipy.spatial.distance import cosine\n",
    "from sklearn.metrics.pairwise import cosine_similarity"
   ]
  },
  {
   "cell_type": "markdown",
   "id": "e5024611",
   "metadata": {},
   "source": [
    "# Data"
   ]
  },
  {
   "cell_type": "code",
   "execution_count": null,
   "id": "ca9e6833",
   "metadata": {},
   "outputs": [],
   "source": [
    "# путь к папке с обработанными minian данными \n",
    "path_to_data = 'demo_movies'\n",
    "\n",
    "# папки в вышеуказанной директории с обработанными minian различными записями и соотвутсвующие им группы\n",
    "dates = {\n",
    "    '25 october 2021': 'real',\n",
    "    '28 october 2021': 'real',\n",
    "    \n",
    "    '8 november 2021': 'real',\n",
    "    '11 november 2021': 'real',\n",
    "    '15 november 2021': 'real',\n",
    "    \n",
    "    'artefact1': 'art_1', \n",
    "    'artefact2': 'art_1',\n",
    "    'artefact3': 'art_1',\n",
    "    \n",
    "    'rb1': 'art_2',\n",
    "    'rb2': 'art_2',\n",
    "    'rb3': 'art_2',\n",
    "    'rb4': 'art_2',\n",
    "    'rb5': 'art_2',\n",
    "    'rb6': 'art_2',\n",
    "    'rb7': 'art_2',\n",
    "    'rb8': 'art_2',\n",
    "    'rb9': 'art_2',\n",
    "    'rb10': 'art_2',\n",
    "}\n",
    "\n",
    "fps = 20"
   ]
  },
  {
   "cell_type": "code",
   "execution_count": null,
   "id": "bb50f2bc",
   "metadata": {},
   "outputs": [],
   "source": [
    "%%time\n",
    "# подгрузка данных\n",
    "data_class = Data(path_to_data, dates.keys(), fps, dates.values())"
   ]
  },
  {
   "cell_type": "code",
   "execution_count": null,
   "id": "1a5ae34a",
   "metadata": {
    "scrolled": true
   },
   "outputs": [],
   "source": [
    "%%time\n",
    "# сбор статистик\n",
    "# операция занимает продолтительное время\n",
    "df = data_class.get_data()"
   ]
  },
  {
   "cell_type": "code",
   "execution_count": null,
   "id": "1f0dad67",
   "metadata": {},
   "outputs": [],
   "source": [
    "# удалние сильноскоррелированных признаков\n",
    "df = Data.drop_strong_corr(df)"
   ]
  },
  {
   "cell_type": "code",
   "execution_count": null,
   "id": "85c0bac6",
   "metadata": {},
   "outputs": [],
   "source": [
    "# снижение размерности\n",
    "data, pca = Data.data_reduction(df)"
   ]
  },
  {
   "cell_type": "code",
   "execution_count": null,
   "id": "5ee8a827",
   "metadata": {},
   "outputs": [],
   "source": [
    "# визуализация результатов\n",
    "Data.show_result(data, dates.values())"
   ]
  },
  {
   "cell_type": "code",
   "execution_count": null,
   "id": "cde06ed0",
   "metadata": {},
   "outputs": [],
   "source": [
    "# табличное представление результатов\n",
    "result = pd.DataFrame({'x': data[:, 0],\n",
    "                       'y': data[:, 1],\n",
    "                       'date': dates.keys(),\n",
    "                       'label': dates.values()\n",
    "                      })\n",
    "result"
   ]
  },
  {
   "cell_type": "code",
   "execution_count": null,
   "id": "f2588b77",
   "metadata": {},
   "outputs": [],
   "source": [
    "# сохраниение результатов\n",
    "result.to_csv('reduced_data.csv')"
   ]
  },
  {
   "cell_type": "markdown",
   "id": "8f127958",
   "metadata": {},
   "source": [
    "# PCA"
   ]
  },
  {
   "cell_type": "code",
   "execution_count": null,
   "id": "e2ae683b",
   "metadata": {},
   "outputs": [],
   "source": [
    "# веса признаков из PCA\n",
    "feature_importance = pd.DataFrame(pca.components_, columns=df.columns)\n",
    "feature_importance"
   ]
  },
  {
   "cell_type": "code",
   "execution_count": null,
   "id": "854d838a",
   "metadata": {},
   "outputs": [],
   "source": [
    "# центры масс по каждой категории записей\n",
    "centers = result.pivot_table(values=['x', 'y'], index='label', aggfunc='mean')\n",
    "centers"
   ]
  },
  {
   "cell_type": "code",
   "execution_count": null,
   "id": "79ef01b6",
   "metadata": {},
   "outputs": [],
   "source": [
    "# подсчет косинусного сходства\n",
    "features = {'value': [],\n",
    "             'label': [],\n",
    "             'feature': [],\n",
    "             'rating': []\n",
    "            }\n",
    "top_n = 8\n",
    "for i, row in centers.iterrows():\n",
    "    top = feature_importance.apply(lambda col: cosine_similarity([row], [col])[0,0])\n",
    "    top = top[top.abs().sort_values(ascending=False).head(top_n).index]\n",
    "    features['value'] += top.tolist()\n",
    "    features['feature'] += top.index.tolist()\n",
    "    features['label'] += [i] * (top_n)\n",
    "    features['rating'] += list(np.arange(top_n))\n",
    "    \n",
    "features = pd.DataFrame(features)\n",
    "features = features.pivot_table(values=['value', 'rating'], index=['label', 'feature'])\n",
    "features = features.sort_values(by=['label', 'rating'])\n",
    "features"
   ]
  },
  {
   "cell_type": "code",
   "execution_count": null,
   "id": "b0e264b0",
   "metadata": {},
   "outputs": [],
   "source": [
    "# визуализация наиболее выжных призанков по косинусному сходству\n",
    "feature_df = features.reset_index()\n",
    "\n",
    "fig, axs = plt.subplots(3, 1, figsize=(12, 15))\n",
    "fig.subplots_adjust(hspace=.3)\n",
    "\n",
    "\n",
    "for ax, label in zip(axs, feature_df['label'].unique()):\n",
    "    \n",
    "    sns.barplot(data = feature_df[feature_df['label'] == label], y='feature', x='value', ax=ax)\n",
    "    ax.set_title(label, fontsize=18)\n",
    "    \n",
    "    ax.set_xlabel('value', fontsize=14)\n",
    "    ax.set_ylabel('feature', fontsize=14)\n",
    "    ax.tick_params(axis='both', labelsize=14)\n",
    "    \n",
    "plt.show()"
   ]
  },
  {
   "cell_type": "code",
   "execution_count": null,
   "id": "1a9b2ab1",
   "metadata": {},
   "outputs": [],
   "source": []
  }
 ],
 "metadata": {
  "kernelspec": {
   "display_name": "Python 3 (ipykernel)",
   "language": "python",
   "name": "python3"
  },
  "language_info": {
   "codemirror_mode": {
    "name": "ipython",
    "version": 3
   },
   "file_extension": ".py",
   "mimetype": "text/x-python",
   "name": "python",
   "nbconvert_exporter": "python",
   "pygments_lexer": "ipython3",
   "version": "3.8.12"
  }
 },
 "nbformat": 4,
 "nbformat_minor": 5
}
