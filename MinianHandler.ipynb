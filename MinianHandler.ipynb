{
 "cells": [
  {
   "cell_type": "markdown",
   "id": "11dd2559",
   "metadata": {},
   "source": [
    "# Imports"
   ]
  },
  {
   "cell_type": "code",
   "execution_count": null,
   "id": "961d6d7d",
   "metadata": {},
   "outputs": [],
   "source": [
    "# !pip install numpy\n",
    "# !pip install zarr\n",
    "# !pip install seaborn\n",
    "# !pip install tqdm\n",
    "# !pip install ipywidgets"
   ]
  },
  {
   "cell_type": "code",
   "execution_count": null,
   "id": "4d2a059d",
   "metadata": {},
   "outputs": [],
   "source": [
    "from analysis.minian import MinianAnalysis\n",
    "import ipywidgets as widgets\n",
    "from IPython.display import display\n",
    "import functools"
   ]
  },
  {
   "cell_type": "markdown",
   "id": "4dcda8f8",
   "metadata": {},
   "source": [
    "# Params"
   ]
  },
  {
   "cell_type": "code",
   "execution_count": null,
   "id": "3df68bd8",
   "metadata": {},
   "outputs": [],
   "source": [
    "# Path to minian output\n",
    "path_to_data = 'demo_movies/15 november 2021/minian/'"
   ]
  },
  {
   "cell_type": "code",
   "execution_count": null,
   "id": "f52b6b02",
   "metadata": {},
   "outputs": [],
   "source": [
    "verbose = True"
   ]
  },
  {
   "cell_type": "code",
   "execution_count": null,
   "id": "d66160f5",
   "metadata": {},
   "outputs": [],
   "source": [
    "fps = 20"
   ]
  },
  {
   "cell_type": "markdown",
   "id": "5bc9d34c",
   "metadata": {},
   "source": [
    "# Init"
   ]
  },
  {
   "cell_type": "code",
   "execution_count": null,
   "id": "fe2665d8",
   "metadata": {},
   "outputs": [],
   "source": [
    "ma = MinianAnalysis(path_to_data, fps)"
   ]
  },
  {
   "cell_type": "code",
   "execution_count": null,
   "id": "98c0d4c8",
   "metadata": {
    "scrolled": false
   },
   "outputs": [],
   "source": [
    "neuron=widgets.Dropdown(\n",
    "    options=ma.signals.columns,\n",
    "    description='neuron',\n",
    "    disabled=False,\n",
    ")\n",
    "cold=widgets.IntSlider(\n",
    "     value=15,\n",
    "     min=0,\n",
    "     max=100,\n",
    "     step=1,\n",
    "     description='cold',\n",
    "     continuous_update=False,\n",
    "     orientation='horizontal',\n",
    "     readout=True,\n",
    "     readout_format='d'\n",
    " ) \n",
    "warm=widgets.IntSlider(\n",
    "     value=25,\n",
    "     min=0,\n",
    "     max=100,\n",
    "     step=1,\n",
    "     description='warm',\n",
    "     continuous_update=False,\n",
    "     orientation='horizontal',\n",
    "     readout=True,\n",
    "     readout_format='d'\n",
    " )\n",
    "window=widgets.IntSlider(\n",
    "     value=10,\n",
    "     min=1,\n",
    "     max=50,\n",
    "     step=1,\n",
    "     description='window',\n",
    "     continuous_update=False,\n",
    "     orientation='horizontal',\n",
    "     readout=True,\n",
    "     readout_format='d'\n",
    " )\n",
    "method=widgets.Dropdown(\n",
    "    options=['spike', 'full'],\n",
    "    value='spike',\n",
    "    description='method',\n",
    "    disabled=False,\n",
    ")\n",
    "\n",
    "wid = widgets.interactive_output(ma.get_active_state, \n",
    "                       {'neuron': neuron,\n",
    "                        'window': window,\n",
    "                        'cold': cold,\n",
    "                        'warm': warm,\n",
    "                        'method': method}\n",
    "                );\n",
    "\n",
    "\n",
    "button = widgets.Button(description=\"Set parameters\", \n",
    "                        button_style='success' # 'success', 'info', 'warning', 'danger', ''\n",
    "                        )\n",
    "\n",
    "def on_button_clicked(b):\n",
    "    ma.find_active_state(window=window.value, cold=cold.value, warm=warm.value, method=method.value, verbose=False)\n",
    "\n",
    "button.on_click(on_button_clicked) \n",
    "\n",
    "\n",
    "left_box = widgets.VBox([neuron, method])\n",
    "center_box = widgets.VBox([cold, warm])\n",
    "right_box = widgets.VBox([window, button])\n",
    "\n",
    "display(widgets.HBox([left_box, center_box, right_box]))\n",
    "display(wid)"
   ]
  },
  {
   "cell_type": "code",
   "execution_count": null,
   "id": "f3af4848",
   "metadata": {},
   "outputs": [],
   "source": [
    "ma.save_active_states()"
   ]
  },
  {
   "cell_type": "markdown",
   "id": "025574bc",
   "metadata": {},
   "source": [
    "## Burst rate"
   ]
  },
  {
   "cell_type": "code",
   "execution_count": null,
   "id": "eb99e3ed",
   "metadata": {
    "scrolled": false
   },
   "outputs": [],
   "source": [
    "max_bins = widgets.IntSlider(\n",
    "    value=15,\n",
    "    min=1,\n",
    "    max=40,\n",
    "    step=1,\n",
    "    description='max_bins',\n",
    "    continuous_update=False,\n",
    "    orientation='horizontal',\n",
    "    readout=True,\n",
    "    readout_format='d'\n",
    ")\n",
    "\n",
    "wid = widgets.interactive_output(ma.show_burst_rate, \n",
    "                                 {'max_bins': max_bins}\n",
    "                                );\n",
    "\n",
    "\n",
    "button = widgets.Button(description=\"Save\", \n",
    "                        button_style='success'\n",
    "                        )\n",
    "\n",
    "def save_burst_rate(b):\n",
    "    ma.save_burst_rate()\n",
    "\n",
    "button.on_click(save_burst_rate)\n",
    "\n",
    "center_box = widgets.HBox([max_bins, button])\n",
    "\n",
    "display(center_box)\n",
    "display(wid)"
   ]
  },
  {
   "cell_type": "markdown",
   "id": "2ad7f9dd",
   "metadata": {},
   "source": [
    "## Network spike rate"
   ]
  },
  {
   "cell_type": "code",
   "execution_count": null,
   "id": "588c84e1",
   "metadata": {},
   "outputs": [],
   "source": [
    "period = widgets.IntSlider(\n",
    "    value=1,\n",
    "    min=1,\n",
    "    max=60,\n",
    "    step=1,\n",
    "    description='period (sec)',\n",
    "    continuous_update=False,\n",
    "    orientation='horizontal',\n",
    "    readout=True,\n",
    "    readout_format='d'\n",
    ")\n",
    "\n",
    "wid = widgets.interactive_output(\n",
    "    ma.show_network_spike_rate,\n",
    "    {'period': period}\n",
    ");\n",
    "\n",
    "\n",
    "button = widgets.Button(description=\"Save\", \n",
    "                        button_style='success' # 'success', 'info', 'warning', 'danger', ''\n",
    "                        )\n",
    "\n",
    "def save_network_spike_rate(b):\n",
    "    ma.save_network_spike_rate(period=period.value)\n",
    "\n",
    "button.on_click(save_network_spike_rate) \n",
    "\n",
    "\n",
    "center_box = widgets.HBox([period, button])\n",
    "\n",
    "display(center_box)\n",
    "display(wid)"
   ]
  },
  {
   "cell_type": "markdown",
   "id": "aba2956f",
   "metadata": {},
   "source": [
    "## Network spike duration "
   ]
  },
  {
   "cell_type": "code",
   "execution_count": null,
   "id": "3e3e1c64",
   "metadata": {},
   "outputs": [],
   "source": [
    "thresholds = [5, 10, 20 , 30, 50] # %"
   ]
  },
  {
   "cell_type": "code",
   "execution_count": null,
   "id": "9e178833",
   "metadata": {},
   "outputs": [],
   "source": [
    "ma.show_network_spike_duration(thresholds)"
   ]
  },
  {
   "cell_type": "markdown",
   "id": "1bb511b8",
   "metadata": {},
   "source": [
    "## Network spike peak"
   ]
  },
  {
   "cell_type": "code",
   "execution_count": null,
   "id": "960d4af7",
   "metadata": {},
   "outputs": [],
   "source": [
    "period = widgets.IntSlider(\n",
    "    value=1,\n",
    "    min=1,\n",
    "    max=60,\n",
    "    step=1,\n",
    "    description='period (sec)',\n",
    "    continuous_update=False,\n",
    "    orientation='horizontal',\n",
    "    readout=True,\n",
    "    readout_format='d'\n",
    ")\n",
    "\n",
    "wid = widgets.interactive_output(\n",
    "    ma.show_network_spike_peak,\n",
    "    {'period': period}\n",
    ");\n",
    "\n",
    "\n",
    "button = widgets.Button(description=\"Save\", \n",
    "                        button_style='success'\n",
    "                        )\n",
    "\n",
    "def save_network_spike_peak(b):\n",
    "    ma.save_network_spike_peak(period=period.value)\n",
    "\n",
    "button.on_click(save_network_spike_peak) \n",
    "\n",
    "\n",
    "center_box = widgets.HBox([period, button])\n",
    "\n",
    "display(center_box)\n",
    "display(wid)"
   ]
  },
  {
   "cell_type": "markdown",
   "id": "cd8fbf00",
   "metadata": {},
   "source": [
    "## Correlation"
   ]
  },
  {
   "cell_type": "markdown",
   "id": "572d48bb",
   "metadata": {},
   "source": [
    "Two types of correlation are presented, which depend on the active state:\n",
    "* active - Pearson correlation for binary segmentation of active states\n",
    "* active_acc - ratio of intersection to union of active states"
   ]
  },
  {
   "cell_type": "code",
   "execution_count": null,
   "id": "d99ac33b",
   "metadata": {},
   "outputs": [],
   "source": [
    "corr_method = widgets.Dropdown(options=['signal', 'diff', 'active', 'active_acc'])\n",
    "\n",
    "threshold = widgets.FloatSlider(\n",
    "    value=0.8,\n",
    "    min=0,\n",
    "    max=1,\n",
    "    step=0.001,\n",
    "    description='threshold',\n",
    "    continuous_update=False,\n",
    "    readout=True,\n",
    "    readout_format='.3f',\n",
    ")\n",
    "\n",
    "position = widgets.Checkbox(\n",
    "    value=False,\n",
    "    description='Position',\n",
    "    disabled=False,\n",
    "    indent=False\n",
    ")\n",
    "\n",
    "\n",
    "corr = widgets.interactive_output(ma.show_corr,\n",
    "                                 {'method': corr_method,\n",
    "                                  'threshold': threshold, \n",
    "                                  'position': position\n",
    "                                 }\n",
    "                                 );\n",
    "display(widgets.HBox([corr_method, threshold, position]))\n",
    "display(corr)"
   ]
  },
  {
   "cell_type": "code",
   "execution_count": null,
   "id": "e9b4f826",
   "metadata": {},
   "outputs": [],
   "source": [
    "ma.save_correlation_matrix(method='active')\n",
    "ma.save_correlation_matrix(method='active', position=True)"
   ]
  },
  {
   "cell_type": "code",
   "execution_count": null,
   "id": "d9734c6c",
   "metadata": {},
   "outputs": [],
   "source": [
    "ma.save_correlation_matrix(method='signal')\n",
    "ma.save_correlation_matrix(method='signal', position=True)"
   ]
  },
  {
   "cell_type": "code",
   "execution_count": null,
   "id": "e4b66f8e",
   "metadata": {},
   "outputs": [],
   "source": [
    "ma.save_correlation_matrix(method='diff')\n",
    "ma.save_correlation_matrix(method='diff', position=True)"
   ]
  },
  {
   "cell_type": "code",
   "execution_count": null,
   "id": "77855341",
   "metadata": {},
   "outputs": [],
   "source": [
    "ma.save_correlation_matrix(method='active_acc')\n",
    "ma.save_correlation_matrix(method='active_acc', position=True)"
   ]
  },
  {
   "cell_type": "code",
   "execution_count": null,
   "id": "2605c253",
   "metadata": {},
   "outputs": [],
   "source": []
  },
  {
   "cell_type": "code",
   "execution_count": null,
   "id": "ef8658b7",
   "metadata": {},
   "outputs": [],
   "source": []
  }
 ],
 "metadata": {
  "kernelspec": {
   "display_name": "Python 3 (ipykernel)",
   "language": "python",
   "name": "python3"
  },
  "language_info": {
   "codemirror_mode": {
    "name": "ipython",
    "version": 3
   },
   "file_extension": ".py",
   "mimetype": "text/x-python",
   "name": "python",
   "nbconvert_exporter": "python",
   "pygments_lexer": "ipython3",
   "version": "3.8.12"
  }
 },
 "nbformat": 4,
 "nbformat_minor": 5
}
