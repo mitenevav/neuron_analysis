{
 "cells": [
  {
   "cell_type": "markdown",
   "id": "11dd2559",
   "metadata": {},
   "source": [
    "# Imports"
   ]
  },
  {
   "cell_type": "code",
   "execution_count": 1,
   "id": "961d6d7d",
   "metadata": {},
   "outputs": [],
   "source": [
    "# !pip install numpy\n",
    "# !pip install zarr\n",
    "# !pip install seaborn\n",
    "# !pip install tqdm\n",
    "# !pip install ipywidgets"
   ]
  },
  {
   "cell_type": "code",
   "execution_count": 2,
   "id": "4d2a059d",
   "metadata": {},
   "outputs": [],
   "source": [
    "from analysis.minian import MinianAnalysis\n",
    "import ipywidgets as widgets\n",
    "from IPython.display import display\n",
    "import functools"
   ]
  },
  {
   "cell_type": "markdown",
   "id": "4dcda8f8",
   "metadata": {},
   "source": [
    "# Params"
   ]
  },
  {
   "cell_type": "code",
   "execution_count": 3,
   "id": "3df68bd8",
   "metadata": {},
   "outputs": [],
   "source": [
    "# Path to minian output\n",
    "path_to_data = 'demo_movies/8 november 2021/minian/'"
   ]
  },
  {
   "cell_type": "code",
   "execution_count": 4,
   "id": "f52b6b02",
   "metadata": {},
   "outputs": [],
   "source": [
    "verbose = True"
   ]
  },
  {
   "cell_type": "code",
   "execution_count": 5,
   "id": "d66160f5",
   "metadata": {},
   "outputs": [],
   "source": [
    "fps = 20"
   ]
  },
  {
   "cell_type": "markdown",
   "id": "5bc9d34c",
   "metadata": {},
   "source": [
    "# Init"
   ]
  },
  {
   "cell_type": "code",
   "execution_count": 6,
   "id": "fe2665d8",
   "metadata": {},
   "outputs": [],
   "source": [
    "ma = MinianAnalysis(path_to_data, fps)"
   ]
  },
  {
   "cell_type": "code",
   "execution_count": 7,
   "id": "98c0d4c8",
   "metadata": {
    "scrolled": false
   },
   "outputs": [
    {
     "data": {
      "application/vnd.jupyter.widget-view+json": {
       "model_id": "f0ab0ff5987041dc81f43a02c5124729",
       "version_major": 2,
       "version_minor": 0
      },
      "text/plain": [
       "HBox(children=(VBox(children=(Dropdown(description='neuron', options=(0, 2, 3, 4, 5, 6, 7, 8, 9, 10, 11, 12, 1…"
      ]
     },
     "metadata": {},
     "output_type": "display_data"
    },
    {
     "data": {
      "application/vnd.jupyter.widget-view+json": {
       "model_id": "94f4b4d682fc46b199f184af7a332808",
       "version_major": 2,
       "version_minor": 0
      },
      "text/plain": [
       "Output()"
      ]
     },
     "metadata": {},
     "output_type": "display_data"
    },
    {
     "data": {
      "application/vnd.jupyter.widget-view+json": {
       "model_id": "b8c34eba456d4bc8ad1787037cba20bd",
       "version_major": 2,
       "version_minor": 0
      },
      "text/plain": [
       "  0%|          | 0/259 [00:00<?, ?it/s]"
      ]
     },
     "metadata": {},
     "output_type": "display_data"
    }
   ],
   "source": [
    "neuron=widgets.Dropdown(\n",
    "    options=ma.signals.columns,\n",
    "    description='neuron',\n",
    "    disabled=False,\n",
    ")\n",
    "cold=widgets.IntSlider(\n",
    "     value=15,\n",
    "     min=0,\n",
    "     max=100,\n",
    "     step=1,\n",
    "     description='cold',\n",
    "     continuous_update=False,\n",
    "     orientation='horizontal',\n",
    "     readout=True,\n",
    "     readout_format='d'\n",
    " ) \n",
    "warm=widgets.IntSlider(\n",
    "     value=25,\n",
    "     min=0,\n",
    "     max=100,\n",
    "     step=1,\n",
    "     description='warm',\n",
    "     continuous_update=False,\n",
    "     orientation='horizontal',\n",
    "     readout=True,\n",
    "     readout_format='d'\n",
    " )\n",
    "window=widgets.IntSlider(\n",
    "     value=10,\n",
    "     min=1,\n",
    "     max=50,\n",
    "     step=1,\n",
    "     description='window',\n",
    "     continuous_update=False,\n",
    "     orientation='horizontal',\n",
    "     readout=True,\n",
    "     readout_format='d'\n",
    " )\n",
    "method=widgets.Dropdown(\n",
    "    options=['spike', 'full'],\n",
    "    value='spike',\n",
    "    description='method',\n",
    "    disabled=False,\n",
    ")\n",
    "\n",
    "wid = widgets.interactive_output(ma.get_active_state, \n",
    "                       {'neuron': neuron,\n",
    "                        'window': window,\n",
    "                        'cold': cold,\n",
    "                        'warm': warm,\n",
    "                        'method': method}\n",
    "                );\n",
    "\n",
    "\n",
    "button = widgets.Button(description=\"Set parameters\", \n",
    "                        button_style='success' # 'success', 'info', 'warning', 'danger', ''\n",
    "                        )\n",
    "\n",
    "def on_button_clicked(b):\n",
    "    ma.find_active_state(window=window.value, cold=cold.value, warm=warm.value, method=method.value, verbose=False)\n",
    "\n",
    "button.on_click(on_button_clicked) \n",
    "\n",
    "\n",
    "left_box = widgets.VBox([neuron, method])\n",
    "center_box = widgets.VBox([cold, warm])\n",
    "right_box = widgets.VBox([window, button])\n",
    "\n",
    "display(widgets.HBox([left_box, center_box, right_box]))\n",
    "display(wid)"
   ]
  },
  {
   "cell_type": "code",
   "execution_count": 7,
   "id": "f3af4848",
   "metadata": {},
   "outputs": [],
   "source": [
    "ma.save_active_states()"
   ]
  },
  {
   "cell_type": "markdown",
   "id": "025574bc",
   "metadata": {},
   "source": [
    "## Burst rate"
   ]
  },
  {
   "cell_type": "code",
   "execution_count": 12,
   "id": "eb99e3ed",
   "metadata": {
    "scrolled": false
   },
   "outputs": [
    {
     "data": {
      "application/vnd.jupyter.widget-view+json": {
       "model_id": "53bdfd9b0bc54b219ef95a1a10fe6b14",
       "version_major": 2,
       "version_minor": 0
      },
      "text/plain": [
       "HBox(children=(IntSlider(value=15, continuous_update=False, description='max_bins', max=40, min=1), Button(but…"
      ]
     },
     "metadata": {},
     "output_type": "display_data"
    },
    {
     "data": {
      "application/vnd.jupyter.widget-view+json": {
       "model_id": "1431042e30aa4f8baa37af518362b89c",
       "version_major": 2,
       "version_minor": 0
      },
      "text/plain": [
       "Output()"
      ]
     },
     "metadata": {},
     "output_type": "display_data"
    }
   ],
   "source": [
    "max_bins = widgets.IntSlider(\n",
    "    value=15,\n",
    "    min=1,\n",
    "    max=40,\n",
    "    step=1,\n",
    "    description='max_bins',\n",
    "    continuous_update=False,\n",
    "    orientation='horizontal',\n",
    "    readout=True,\n",
    "    readout_format='d'\n",
    ")\n",
    "\n",
    "wid = widgets.interactive_output(ma.show_burst_rate, \n",
    "                                 {'max_bins': max_bins}\n",
    "                                );\n",
    "\n",
    "\n",
    "button = widgets.Button(description=\"Save\", \n",
    "                        button_style='success'\n",
    "                        )\n",
    "\n",
    "def save_burst_rate(b):\n",
    "    ma.save_burst_rate()\n",
    "\n",
    "button.on_click(save_burst_rate)\n",
    "\n",
    "center_box = widgets.HBox([max_bins, button])\n",
    "\n",
    "display(center_box)\n",
    "display(wid)"
   ]
  },
  {
   "cell_type": "markdown",
   "id": "2ad7f9dd",
   "metadata": {},
   "source": [
    "## Network spike rate"
   ]
  },
  {
   "cell_type": "code",
   "execution_count": 13,
   "id": "588c84e1",
   "metadata": {},
   "outputs": [
    {
     "data": {
      "application/vnd.jupyter.widget-view+json": {
       "model_id": "11a38fdee4c24a6daf91ea5e79f8f0f1",
       "version_major": 2,
       "version_minor": 0
      },
      "text/plain": [
       "HBox(children=(IntSlider(value=1, continuous_update=False, description='period (sec)', max=60, min=1), Button(…"
      ]
     },
     "metadata": {},
     "output_type": "display_data"
    },
    {
     "data": {
      "application/vnd.jupyter.widget-view+json": {
       "model_id": "eaa69f765a094544aa19db54ddec008b",
       "version_major": 2,
       "version_minor": 0
      },
      "text/plain": [
       "Output()"
      ]
     },
     "metadata": {},
     "output_type": "display_data"
    }
   ],
   "source": [
    "period = widgets.IntSlider(\n",
    "    value=1,\n",
    "    min=1,\n",
    "    max=60,\n",
    "    step=1,\n",
    "    description='period (sec)',\n",
    "    continuous_update=False,\n",
    "    orientation='horizontal',\n",
    "    readout=True,\n",
    "    readout_format='d'\n",
    ")\n",
    "\n",
    "wid = widgets.interactive_output(\n",
    "    ma.show_network_spike_rate,\n",
    "    {'period': period}\n",
    ");\n",
    "\n",
    "\n",
    "button = widgets.Button(description=\"Save\", \n",
    "                        button_style='success' # 'success', 'info', 'warning', 'danger', ''\n",
    "                        )\n",
    "\n",
    "def save_network_spike_rate(b):\n",
    "    ma.save_network_spike_rate(period=period.value)\n",
    "\n",
    "button.on_click(save_network_spike_rate) \n",
    "\n",
    "\n",
    "center_box = widgets.HBox([period, button])\n",
    "\n",
    "display(center_box)\n",
    "display(wid)"
   ]
  },
  {
   "cell_type": "markdown",
   "id": "aba2956f",
   "metadata": {},
   "source": [
    "## Network spike duration "
   ]
  },
  {
   "cell_type": "code",
   "execution_count": 9,
   "id": "3e3e1c64",
   "metadata": {},
   "outputs": [],
   "source": [
    "thresholds = [5, 10, 20 , 30, 50] # %"
   ]
  },
  {
   "cell_type": "code",
   "execution_count": 10,
   "id": "9e178833",
   "metadata": {},
   "outputs": [
    {
     "data": {
      "application/vnd.jupyter.widget-view+json": {
       "model_id": "7f4c64fb19f743f6801035d85e0a49d1",
       "version_major": 2,
       "version_minor": 0
      },
      "text/plain": [
       "  0%|          | 0/5 [00:00<?, ?it/s]"
      ]
     },
     "metadata": {},
     "output_type": "display_data"
    },
    {
     "data": {
      "image/png": "[encoded data removed]",
      "text/plain": [
       "<Figure size 576x432 with 1 Axes>"
      ]
     },
     "metadata": {},
     "output_type": "display_data"
    }
   ],
   "source": [
    "ma.show_network_spike_duration(thresholds)"
   ]
  },
  {
   "cell_type": "markdown",
   "id": "1bb511b8",
   "metadata": {},
   "source": [
    "## Network spike peak"
   ]
  },
  {
   "cell_type": "code",
   "execution_count": 14,
   "id": "960d4af7",
   "metadata": {},
   "outputs": [
    {
     "data": {
      "application/vnd.jupyter.widget-view+json": {
       "model_id": "0efad54dc21b4d2e80bd698b2cb0a7ad",
       "version_major": 2,
       "version_minor": 0
      },
      "text/plain": [
       "HBox(children=(IntSlider(value=1, continuous_update=False, description='period (sec)', max=60, min=1), Button(…"
      ]
     },
     "metadata": {},
     "output_type": "display_data"
    },
    {
     "data": {
      "application/vnd.jupyter.widget-view+json": {
       "model_id": "7230b2676cb242249c3a4fa00a3d1380",
       "version_major": 2,
       "version_minor": 0
      },
      "text/plain": [
       "Output()"
      ]
     },
     "metadata": {},
     "output_type": "display_data"
    }
   ],
   "source": [
    "period = widgets.IntSlider(\n",
    "    value=1,\n",
    "    min=1,\n",
    "    max=60,\n",
    "    step=1,\n",
    "    description='period (sec)',\n",
    "    continuous_update=False,\n",
    "    orientation='horizontal',\n",
    "    readout=True,\n",
    "    readout_format='d'\n",
    ")\n",
    "\n",
    "wid = widgets.interactive_output(\n",
    "    ma.show_network_spike_peak,\n",
    "    {'period': period}\n",
    ");\n",
    "\n",
    "\n",
    "button = widgets.Button(description=\"Save\", \n",
    "                        button_style='success'\n",
    "                        )\n",
    "\n",
    "def save_network_spike_peak(b):\n",
    "    ma.save_network_spike_peak(period=period.value)\n",
    "\n",
    "button.on_click(save_network_spike_peak) \n",
    "\n",
    "\n",
    "center_box = widgets.HBox([period, button])\n",
    "\n",
    "display(center_box)\n",
    "display(wid)"
   ]
  },
  {
   "cell_type": "markdown",
   "id": "cd8fbf00",
   "metadata": {},
   "source": [
    "## Correlation"
   ]
  },
  {
   "cell_type": "markdown",
   "id": "572d48bb",
   "metadata": {},
   "source": [
    "Two types of correlation are presented, which depend on the active state:\n",
    "* active - Pearson correlation for binary segmentation of active states\n",
    "* active_acc - ratio of intersection to union of active states"
   ]
  },
  {
   "cell_type": "code",
   "execution_count": 8,
   "id": "d99ac33b",
   "metadata": {},
   "outputs": [
    {
     "data": {
      "application/vnd.jupyter.widget-view+json": {
       "model_id": "fd637ff52684478587b8986380d9bc10",
       "version_major": 2,
       "version_minor": 0
      },
      "text/plain": [
       "HBox(children=(Dropdown(options=('signal', 'diff', 'active', 'active_acc'), value='signal'), FloatSlider(value…"
      ]
     },
     "metadata": {},
     "output_type": "display_data"
    },
    {
     "data": {
      "application/vnd.jupyter.widget-view+json": {
       "model_id": "23dc766855f0489e9a33c22464ceda5f",
       "version_major": 2,
       "version_minor": 0
      },
      "text/plain": [
       "Output()"
      ]
     },
     "metadata": {},
     "output_type": "display_data"
    }
   ],
   "source": [
    "corr_method = widgets.Dropdown(options=['signal', 'diff', 'active', 'active_acc'])\n",
    "\n",
    "threshold = widgets.FloatSlider(\n",
    "    value=0.8,\n",
    "    min=0,\n",
    "    max=1,\n",
    "    step=0.01,\n",
    "    description='threshold',\n",
    "    continuous_update=False,\n",
    "    readout=True,\n",
    ")\n",
    "\n",
    "\n",
    "corr = widgets.interactive_output(ma.show_corr,\n",
    "                                 {'method': corr_method,\n",
    "                                  'threshold': threshold}\n",
    "                                 );\n",
    "display(widgets.HBox([corr_method, threshold]))\n",
    "display(corr)"
   ]
  },
  {
   "cell_type": "code",
   "execution_count": null,
   "id": "e9b4f826",
   "metadata": {},
   "outputs": [],
   "source": [
    "ma.save_correlation_matrix(method='active')"
   ]
  },
  {
   "cell_type": "code",
   "execution_count": null,
   "id": "d9734c6c",
   "metadata": {},
   "outputs": [],
   "source": [
    "ma.save_correlation_matrix(method='signal')"
   ]
  },
  {
   "cell_type": "code",
   "execution_count": null,
   "id": "e4b66f8e",
   "metadata": {},
   "outputs": [],
   "source": [
    "ma.save_correlation_matrix(method='diff')"
   ]
  },
  {
   "cell_type": "code",
   "execution_count": null,
   "id": "77855341",
   "metadata": {},
   "outputs": [],
   "source": [
    "ma.save_correlation_matrix(method='active_acc')"
   ]
  },
  {
   "cell_type": "code",
   "execution_count": null,
   "id": "7b5487d7",
   "metadata": {},
   "outputs": [],
   "source": []
  }
 ],
 "metadata": {
  "kernelspec": {
   "display_name": "Python 3 (ipykernel)",
   "language": "python",
   "name": "python3"
  },
  "language_info": {
   "codemirror_mode": {
    "name": "ipython",
    "version": 3
   },
   "file_extension": ".py",
   "mimetype": "text/x-python",
   "name": "python",
   "nbconvert_exporter": "python",
   "pygments_lexer": "ipython3",
   "version": "3.8.12"
  }
 },
 "nbformat": 4,
 "nbformat_minor": 5
}
