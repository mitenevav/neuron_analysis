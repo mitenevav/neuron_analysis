{
 "cells": [
  {
   "cell_type": "markdown",
   "id": "b0894c8c",
   "metadata": {},
   "source": [
    "# Imports"
   ]
  },
  {
   "cell_type": "code",
   "execution_count": null,
   "id": "f48a8210",
   "metadata": {},
   "outputs": [],
   "source": [
    "import math\n",
    "import numpy as np\n",
    "import pandas as pd\n",
    "import seaborn as sns\n",
    "import matplotlib.pyplot as plt\n",
    "from analysis.dim_reduction import Data\n",
    "from scipy.spatial.distance import cosine\n",
    "from sklearn.metrics.pairwise import cosine_similarity\n",
    "import matplotlib as mpl\n",
    "import ipywidgets as widgets\n",
    "from IPython.display import display\n",
    "\n",
    "mpl.rcParams['figure.dpi'] = 300"
   ]
  },
  {
   "cell_type": "markdown",
   "id": "e5024611",
   "metadata": {},
   "source": [
    "# Data"
   ]
  },
  {
   "cell_type": "code",
   "execution_count": null,
   "id": "ca9e6833",
   "metadata": {},
   "outputs": [],
   "source": [
    "# путь к папке с обработанными minian данными \n",
    "path_to_data = 'demo_movies'\n",
    "\n",
    "# рассматриваемые сесси\n",
    "# название\n",
    "# path - путь к файлам\n",
    "# mouse - идентификатор особи\n",
    "# condition (normal/stress/3h/10d)\n",
    "# fps - количество кадров в секунду\n",
    "dates = {\n",
    "    'mouse_old_1': {'path': 'mouse_old/25_october_2021',\n",
    "                    'mouse': 'old',\n",
    "                    'condition': 'normal',\n",
    "                    'fps': 20},\n",
    "    'mouse_old_2': {'path': 'mouse_old/11_november_2021',\n",
    "                    'mouse': 'old',\n",
    "                    'condition': 'normal',\n",
    "                    'fps': 20},\n",
    "    'mouse_old_3': {'path': 'mouse_old/15_november_2021',\n",
    "                    'mouse': 'old',\n",
    "                    'condition': 'normal',\n",
    "                    'fps': 20},\n",
    "    \n",
    "    \n",
    "    'mouse1_17': {'path': '5days/mouse1/17 october exp',\n",
    "                  'mouse': '1',\n",
    "                  'condition': 'normal',\n",
    "                  'fps': 15},\n",
    "    'mouse1_18': {'path': '5days/mouse1/18 october exp',\n",
    "                  'mouse': '1',\n",
    "                  'condition': 'normal',\n",
    "                  'fps': 15},\n",
    "    'mouse1_19': {'path': '5days/mouse1/19 october exp',\n",
    "                  'mouse': '1',\n",
    "                  'condition': 'normal',\n",
    "                  'fps': 15},\n",
    "    'mouse1_20': {'path': '5days/mouse1/20 october exp',\n",
    "                  'mouse': '1',\n",
    "                  'condition': 'normal',\n",
    "                  'fps': 15},\n",
    "    'mouse1_21': {'path': '5days/mouse1/21 october exp',\n",
    "                  'mouse': '1',\n",
    "                  'condition': 'normal',\n",
    "                  'fps': 15},\n",
    "    \n",
    "    \n",
    "    'mouse2_17': {'path': '5days/mouse2/17 october exp',\n",
    "                  'mouse': '2',\n",
    "                  'condition': 'normal',\n",
    "                  'fps': 15},\n",
    "    'mouse2_18': {'path': '5days/mouse2/18 october exp',\n",
    "                  'mouse': '2',\n",
    "                  'condition': 'normal',\n",
    "                  'fps': 15},\n",
    "    'mouse2_19': {'path': '5days/mouse2/19 october exp',\n",
    "                  'mouse': '2',\n",
    "                  'condition': 'normal',\n",
    "                  'fps': 15},\n",
    "    'mouse2_20': {'path': '5days/mouse2/20 october exp',\n",
    "                  'mouse': '2',\n",
    "                  'condition': 'normal',\n",
    "                  'fps': 15},\n",
    "    'mouse2_21': {'path': '5days/mouse2/21 october exp',\n",
    "                  'mouse': '2',\n",
    "                  'condition': 'normal',\n",
    "                  'fps': 15},\n",
    "\n",
    "    'mouse1_ra': {'path': 'stress_test/mouse1/right_after',\n",
    "                  'mouse': '1',\n",
    "                  'condition': 'stress',\n",
    "                  'fps': 15},\n",
    "    'mouse1_3h': {'path': 'stress_test/mouse1/3_hours',\n",
    "                  'mouse': '1',\n",
    "                  'condition': '3h',\n",
    "                  'fps': 15},\n",
    "    'mouse1_10d': {'path': 'stress_test/mouse1/10_days',\n",
    "                   'mouse': '1',\n",
    "                   'condition': '10d',\n",
    "                   'fps': 15},\n",
    "\n",
    "    'mouse2_ra': {'path': 'stress_test/mouse2/right_after',\n",
    "                  'mouse': '2',\n",
    "                  'condition': 'stress',\n",
    "                  'fps': 15},\n",
    "    'mouse2_3h': {'path': 'stress_test/mouse2/3_hours',\n",
    "                  'mouse': '2',\n",
    "                  'condition': '3h',\n",
    "                  'fps': 15},\n",
    "    'mouse2_10d': {'path': 'stress_test/mouse2/10_days',\n",
    "                   'mouse': '2',\n",
    "                   'condition': '10d',\n",
    "                   'fps': 15},\n",
    "}\n",
    "\n",
    "conditions_order = {\n",
    "    '1': ['normal', 'stress', '3h', '10d'],\n",
    "    '2': ['normal', 'stress', '3h', '10d'],\n",
    "    'old': ['normal']\n",
    "}"
   ]
  },
  {
   "cell_type": "code",
   "execution_count": null,
   "id": "bb50f2bc",
   "metadata": {},
   "outputs": [],
   "source": [
    "%%time\n",
    "# подгрузка данных\n",
    "data_class = Data(path_to_data, dates, verbose=True)"
   ]
  },
  {
   "cell_type": "code",
   "execution_count": null,
   "id": "1a5ae34a",
   "metadata": {
    "scrolled": true
   },
   "outputs": [],
   "source": [
    "%%time\n",
    "# сбор статистик\n",
    "# операция занимает продолжительное время\n",
    "data_class.get_data()"
   ]
  },
  {
   "cell_type": "code",
   "execution_count": null,
   "id": "1f0dad67",
   "metadata": {},
   "outputs": [],
   "source": [
    "# удалние сильноскоррелированных признаков\n",
    "# df = Data.drop_strong_corr(df)"
   ]
  },
  {
   "cell_type": "code",
   "execution_count": null,
   "id": "85c0bac6",
   "metadata": {},
   "outputs": [],
   "source": [
    "# снижение размерности\n",
    "data, pca = data_class.data_reduction()"
   ]
  },
  {
   "cell_type": "code",
   "execution_count": null,
   "id": "5ee8a827",
   "metadata": {},
   "outputs": [],
   "source": [
    "# визуализация результатов\n",
    "\n",
    "mouse=widgets.Dropdown(\n",
    "    options=conditions_order.keys(),\n",
    "    value=list(conditions_order.keys())[0],\n",
    "    description='mouse',\n",
    "    disabled=False,\n",
    ")\n",
    "\n",
    "def show_map(mouse_id):\n",
    "    data_class.show_result(mouse_id, conditions_order[mouse_id])\n",
    "\n",
    "mouse_map = widgets.interactive_output(show_map,\n",
    "                                       {'mouse_id': mouse}\n",
    "                                      );\n",
    "display(mouse)\n",
    "display(mouse_map)"
   ]
  },
  {
   "cell_type": "markdown",
   "id": "d8d471de",
   "metadata": {},
   "source": [
    "# stats all\n"
   ]
  },
  {
   "cell_type": "code",
   "execution_count": null,
   "id": "8c2b8e69",
   "metadata": {},
   "outputs": [],
   "source": [
    "condition=widgets.Dropdown(\n",
    "    options=data['condition'].unique().tolist()+['all'],\n",
    "    value='all',\n",
    "    description='condition',\n",
    "    disabled=False,\n",
    ")\n",
    "\n",
    "stats_deviation = widgets.interactive_output(data_class.show_stats_deviation,\n",
    "                                             {'condition': condition}\n",
    "                                            );\n",
    "display(condition)\n",
    "display(stats_deviation)"
   ]
  },
  {
   "cell_type": "code",
   "execution_count": null,
   "id": "2604615d",
   "metadata": {},
   "outputs": [],
   "source": [
    "stat = widgets.Dropdown(\n",
    "    options=data_class.get_stat_list(),\n",
    "    value=data_class.get_stat_list()[0],\n",
    "    description='stat',\n",
    "    disabled=False,\n",
    ")\n",
    "\n",
    "condition = widgets.Dropdown(\n",
    "    options=data['condition'].unique().tolist()+['all'],\n",
    "    value='all',\n",
    "    description='condition',\n",
    "    disabled=False,\n",
    ")\n",
    "\n",
    "stats_deviation = widgets.interactive_output(data_class.show_stat,\n",
    "                                             {'stat': stat,\n",
    "                                              'condition': condition}\n",
    "                                            );\n",
    "\n",
    "display(stat)\n",
    "display(condition)\n",
    "display(stats_deviation)"
   ]
  },
  {
   "cell_type": "code",
   "execution_count": null,
   "id": "cde06ed0",
   "metadata": {},
   "outputs": [],
   "source": [
    "# табличное представление результатов\n",
    "result = data.copy()\n",
    "result"
   ]
  },
  {
   "cell_type": "code",
   "execution_count": null,
   "id": "f2588b77",
   "metadata": {},
   "outputs": [],
   "source": [
    "# сохраниение результатов\n",
    "result.to_csv('reduced_data.csv')"
   ]
  },
  {
   "cell_type": "markdown",
   "id": "8f127958",
   "metadata": {},
   "source": [
    "# PCA"
   ]
  },
  {
   "cell_type": "code",
   "execution_count": null,
   "id": "6809e3c7",
   "metadata": {},
   "outputs": [],
   "source": [
    "# веса признаков из PCA\n",
    "feature_importance = pd.DataFrame(pca.components_, columns=data_class.data.columns)\n",
    "feature_importance"
   ]
  },
  {
   "cell_type": "code",
   "execution_count": null,
   "id": "5d017687",
   "metadata": {},
   "outputs": [],
   "source": [
    "plt.scatter(feature_importance.iloc[0], feature_importance.iloc[1], label=feature_importance.columns.tolist())"
   ]
  },
  {
   "cell_type": "code",
   "execution_count": null,
   "id": "8ee57822",
   "metadata": {},
   "outputs": [],
   "source": [
    "feature_importance.T[0].sort_values()"
   ]
  },
  {
   "cell_type": "code",
   "execution_count": null,
   "id": "14891042",
   "metadata": {},
   "outputs": [],
   "source": [
    "feature_importance.T[1].sort_values()"
   ]
  },
  {
   "cell_type": "code",
   "execution_count": null,
   "id": "854d838a",
   "metadata": {},
   "outputs": [],
   "source": [
    "# центры масс по каждой категории записей\n",
    "centers = result.pivot_table(values=['x', 'y'], index='mouse', aggfunc='mean')\n",
    "centers"
   ]
  },
  {
   "cell_type": "code",
   "execution_count": null,
   "id": "79ef01b6",
   "metadata": {},
   "outputs": [],
   "source": [
    "# подсчет косинусного сходства\n",
    "features = {'value': [],\n",
    "             'label': [],\n",
    "             'feature': [],\n",
    "             'rating': []\n",
    "            }\n",
    "top_n = 8\n",
    "for i, row in centers.iterrows():\n",
    "    top = feature_importance.apply(lambda col: cosine_similarity([row], [col])[0,0] * (col ** 2).sum() ** (1 / 2))\n",
    "    top = top[top.abs().sort_values(ascending=False).head(top_n).index]\n",
    "    features['value'] += top.tolist()\n",
    "    features['feature'] += top.index.tolist()\n",
    "    features['label'] += [i] * (top_n)\n",
    "    features['rating'] += list(np.arange(top_n))\n",
    "    \n",
    "features = pd.DataFrame(features)\n",
    "features = features.pivot_table(values=['value', 'rating'], index=['label', 'feature'])\n",
    "features = features.sort_values(by=['label', 'rating'])\n",
    "features"
   ]
  },
  {
   "cell_type": "code",
   "execution_count": null,
   "id": "b0e264b0",
   "metadata": {},
   "outputs": [],
   "source": [
    "# визуализация наиболее выжных призанков по косинусному сходству\n",
    "feature_df = features.reset_index()\n",
    "\n",
    "labels = feature_df['label'].unique()\n",
    "\n",
    "fig, axs = plt.subplots(len(labels), 1, figsize=(12, 5*len(labels)))\n",
    "fig.subplots_adjust(hspace=.3)\n",
    "\n",
    "\n",
    "for ax, label in zip(axs, labels):\n",
    "    \n",
    "    sns.barplot(data = feature_df[feature_df['label'] == label], y='feature', x='value', ax=ax)\n",
    "    ax.set_title(label, fontsize=18)\n",
    "    \n",
    "    ax.set_xlabel('value', fontsize=14)\n",
    "    ax.set_ylabel('feature', fontsize=14)\n",
    "    ax.tick_params(axis='both', labelsize=14)\n",
    "    \n",
    "plt.show()"
   ]
  },
  {
   "cell_type": "code",
   "execution_count": null,
   "id": "1a9b2ab1",
   "metadata": {},
   "outputs": [],
   "source": []
  }
 ],
 "metadata": {
  "kernelspec": {
   "display_name": "Python 3 (ipykernel)",
   "language": "python",
   "name": "python3"
  },
  "language_info": {
   "codemirror_mode": {
    "name": "ipython",
    "version": 3
   },
   "file_extension": ".py",
   "mimetype": "text/x-python",
   "name": "python",
   "nbconvert_exporter": "python",
   "pygments_lexer": "ipython3",
   "version": "3.8.12"
  }
 },
 "nbformat": 4,
 "nbformat_minor": 5
}
