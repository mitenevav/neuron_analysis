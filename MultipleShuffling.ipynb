{
 "cells": [
  {
   "cell_type": "markdown",
   "id": "11c503cb",
   "metadata": {},
   "source": [
    "# Imports"
   ]
  },
  {
   "cell_type": "code",
   "execution_count": null,
   "id": "f0728ab9",
   "metadata": {},
   "outputs": [],
   "source": [
    "import ipywidgets as widgets\n",
    "from IPython.display import display\n",
    "from analysis.multiple_shuffling import MultipleShuffler"
   ]
  },
  {
   "cell_type": "markdown",
   "id": "40bae8e0",
   "metadata": {},
   "source": [
    "# Data"
   ]
  },
  {
   "cell_type": "code",
   "execution_count": null,
   "id": "b2463512",
   "metadata": {},
   "outputs": [],
   "source": [
    "dates = {\n",
    "    'mouse_old_1': {'path': 'mouse_old/25_october_2021',\n",
    "                    'fps': 20},\n",
    "    'mouse_old_2': {'path': 'mouse_old/11_november_2021',\n",
    "                    'fps': 20},\n",
    "    'mouse_old_3': {'path': 'mouse_old/15_november_2021',\n",
    "                    'fps': 20},\n",
    "    \n",
    "    \n",
    "    'mouse1_17': {'path': '5days/mouse1/17 october exp',\n",
    "                  'fps': 15},\n",
    "    'mouse1_18': {'path': '5days/mouse1/18 october exp',\n",
    "                  'condition': 'normal',\n",
    "                  'fps': 15},\n",
    "    'mouse1_19': {'path': '5days/mouse1/19 october exp',\n",
    "                  'fps': 15},\n",
    "    'mouse1_20': {'path': '5days/mouse1/20 october exp',\n",
    "                  'fps': 15},\n",
    "    'mouse1_21': {'path': '5days/mouse1/21 october exp',\n",
    "                  'fps': 15},\n",
    "    \n",
    "    \n",
    "    'mouse2_17': {'path': '5days/mouse2/17 october exp',\n",
    "                  'fps': 15},\n",
    "    'mouse2_18': {'path': '5days/mouse2/18 october exp',\n",
    "                  'fps': 15},\n",
    "    'mouse2_19': {'path': '5days/mouse2/19 october exp',\n",
    "                  'fps': 15},\n",
    "    'mouse2_20': {'path': '5days/mouse2/20 october exp',\n",
    "                  'fps': 15},\n",
    "    'mouse2_21': {'path': '5days/mouse2/21 october exp',\n",
    "                  'fps': 15},\n",
    "}\n",
    "\n",
    "path_to_data = 'demo_movies'\n",
    "\n",
    "num_of_shuffles = 1\n",
    "\n",
    "shuffle_fractions = [.5, 1.]"
   ]
  },
  {
   "cell_type": "markdown",
   "id": "7f1c33d8",
   "metadata": {},
   "source": [
    "# Experiments"
   ]
  },
  {
   "cell_type": "code",
   "execution_count": null,
   "id": "d08c9851",
   "metadata": {},
   "outputs": [],
   "source": [
    "ms = MultipleShuffler(path_to_data, \n",
    "                      dates,\n",
    "                      num_of_shuffles=num_of_shuffles,\n",
    "                      shuffle_fractions=shuffle_fractions\n",
    "                     )"
   ]
  },
  {
   "cell_type": "code",
   "execution_count": null,
   "id": "de315cb8",
   "metadata": {},
   "outputs": [],
   "source": [
    "position = widgets.Checkbox(\n",
    "    value=False,\n",
    "    description='Position',\n",
    "    disabled=False,\n",
    "    indent=False\n",
    ")\n",
    "\n",
    "wid = widgets.interactive_output(ms.show_day_mean_correlation_range,\n",
    "                                 {'position': position});\n",
    "\n",
    "display(widgets.HBox([position]))\n",
    "display(wid)"
   ]
  },
  {
   "cell_type": "code",
   "execution_count": null,
   "id": "1abb41d5",
   "metadata": {},
   "outputs": [],
   "source": [
    "ms.show_position_mean_correlation_range()"
   ]
  },
  {
   "cell_type": "code",
   "execution_count": null,
   "id": "5e79abef",
   "metadata": {},
   "outputs": [],
   "source": [
    "statistic_type = widgets.Dropdown(\n",
    "    options=['network spike peak', 'network spike rate'],\n",
    "    value='network spike peak',\n",
    "    description='Statistic type',\n",
    "    disabled=False,\n",
    ")\n",
    "\n",
    "daily = widgets.Checkbox(\n",
    "    value=False,\n",
    "    description='Daily',\n",
    "    disabled=False,\n",
    "    indent=False\n",
    ")\n",
    "\n",
    "wid = widgets.interactive_output(ms.show_mean_statistic_peak,\n",
    "                                 {'daily': daily, \n",
    "                                  'statistic_type': statistic_type});\n",
    "\n",
    "display(widgets.HBox([statistic_type, daily]))\n",
    "display(wid)"
   ]
  },
  {
   "cell_type": "code",
   "execution_count": null,
   "id": "721f0ff3",
   "metadata": {},
   "outputs": [],
   "source": [
    "ms.save_results(path_to_data)"
   ]
  },
  {
   "cell_type": "code",
   "execution_count": null,
   "id": "3863ded4",
   "metadata": {},
   "outputs": [],
   "source": []
  }
 ],
 "metadata": {
  "kernelspec": {
   "display_name": "Python 3 (ipykernel)",
   "language": "python",
   "name": "python3"
  },
  "language_info": {
   "codemirror_mode": {
    "name": "ipython",
    "version": 3
   },
   "file_extension": ".py",
   "mimetype": "text/x-python",
   "name": "python",
   "nbconvert_exporter": "python",
   "pygments_lexer": "ipython3",
   "version": "3.8.12"
  }
 },
 "nbformat": 4,
 "nbformat_minor": 5
}
