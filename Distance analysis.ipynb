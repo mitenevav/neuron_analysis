{
 "cells": [
  {
   "cell_type": "markdown",
   "id": "95da7835",
   "metadata": {},
   "source": [
    "# Imports"
   ]
  },
  {
   "cell_type": "code",
   "execution_count": null,
   "id": "00cf4bb4",
   "metadata": {},
   "outputs": [],
   "source": [
    "from analysis.distance import DistanceAnalysis\n",
    "import ipywidgets as widgets\n",
    "from IPython.display import display"
   ]
  },
  {
   "cell_type": "markdown",
   "id": "bed27825",
   "metadata": {},
   "source": [
    "# Data"
   ]
  },
  {
   "cell_type": "code",
   "execution_count": null,
   "id": "66d21921",
   "metadata": {},
   "outputs": [],
   "source": [
    "dates = [\n",
    "    '25 october 2021',\n",
    "    '28 october 2021',\n",
    "    \n",
    "    '8 november 2021',\n",
    "    '11 november 2021',\n",
    "    '15 november 2021',\n",
    "]\n",
    "\n",
    "path_to_data = 'demo_movies'\n",
    "\n",
    "fps = 20"
   ]
  },
  {
   "cell_type": "code",
   "execution_count": null,
   "id": "6155340b",
   "metadata": {},
   "outputs": [],
   "source": [
    "da = DistanceAnalysis(path_to_data, dates, fps)"
   ]
  },
  {
   "cell_type": "code",
   "execution_count": null,
   "id": "24d39856",
   "metadata": {},
   "outputs": [],
   "source": [
    "da.plot_radius_dependency()"
   ]
  },
  {
   "cell_type": "code",
   "execution_count": null,
   "id": "53183689",
   "metadata": {},
   "outputs": [],
   "source": [
    "distance = widgets.Dropdown(options=['euclidean', 'radial'])\n",
    "\n",
    "\n",
    "out = widgets.interactive_output(da.plot_distance_distribution,\n",
    "                                 {'dist_type': distance}\n",
    "                                 );\n",
    "\n",
    "display(widgets.HBox([distance]))\n",
    "display(out)"
   ]
  },
  {
   "cell_type": "code",
   "execution_count": null,
   "id": "341b613c",
   "metadata": {},
   "outputs": [],
   "source": [
    "x = widgets.Dropdown(options=['euclidean', 'radial', 'signal', 'active', 'active_acc'])\n",
    "y = widgets.Dropdown(options=['euclidean', 'radial', 'signal', 'active', 'active_acc'],\n",
    "                     value='active')\n",
    "\n",
    "\n",
    "out = widgets.interactive_output(da.plot_dependency,\n",
    "                                 {'x': x,\n",
    "                                  'y': y,\n",
    "                                 });\n",
    "\n",
    "display(widgets.HBox([x, y]))\n",
    "display(out)"
   ]
  },
  {
   "cell_type": "code",
   "execution_count": null,
   "id": "54d50a83",
   "metadata": {},
   "outputs": [],
   "source": []
  },
  {
   "cell_type": "code",
   "execution_count": null,
   "id": "abf00369",
   "metadata": {},
   "outputs": [],
   "source": []
  }
 ],
 "metadata": {
  "kernelspec": {
   "display_name": "Python 3 (ipykernel)",
   "language": "python",
   "name": "python3"
  },
  "language_info": {
   "codemirror_mode": {
    "name": "ipython",
    "version": 3
   },
   "file_extension": ".py",
   "mimetype": "text/x-python",
   "name": "python",
   "nbconvert_exporter": "python",
   "pygments_lexer": "ipython3",
   "version": "3.8.12"
  }
 },
 "nbformat": 4,
 "nbformat_minor": 5
}
