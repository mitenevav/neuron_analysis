{
 "cells": [
  {
   "cell_type": "markdown",
   "id": "e9c146c0",
   "metadata": {},
   "source": [
    "# Imports"
   ]
  },
  {
   "cell_type": "code",
   "execution_count": null,
   "id": "ba9a752d",
   "metadata": {},
   "outputs": [],
   "source": [
    "import ipywidgets as widgets\n",
    "from IPython.display import display\n",
    "from analysis.statistics import StatTests\n",
    "from analysis.shuffling import ShuffleAnalysis\n",
    "from tqdm.notebook import tqdm\n",
    "import matplotlib as mpl\n",
    "\n",
    "mpl.rcParams['figure.dpi'] = 300"
   ]
  },
  {
   "cell_type": "markdown",
   "id": "284e672f",
   "metadata": {},
   "source": [
    "# Data"
   ]
  },
  {
   "cell_type": "code",
   "execution_count": null,
   "id": "c442a7ae",
   "metadata": {},
   "outputs": [],
   "source": [
    "dates = {\n",
    "    'mouse_old_1': {'path': 'mouse_old/25_october_2021',\n",
    "                    'fps': 20},\n",
    "    'mouse_old_2': {'path': 'mouse_old/11_november_2021',\n",
    "                    'fps': 20},\n",
    "    'mouse_old_3': {'path': 'mouse_old/15_november_2021',\n",
    "                    'fps': 20},\n",
    "}\n",
    "\n",
    "path_to_data = 'demo_movies'"
   ]
  },
  {
   "cell_type": "markdown",
   "id": "4a7e2388",
   "metadata": {},
   "source": [
    "# Statistics"
   ]
  },
  {
   "cell_type": "markdown",
   "id": "54c45eed",
   "metadata": {},
   "source": [
    "## Init"
   ]
  },
  {
   "cell_type": "code",
   "execution_count": null,
   "id": "2940e6d4",
   "metadata": {},
   "outputs": [],
   "source": [
    "%%time\n",
    "st = StatTests(path_to_data, dates)"
   ]
  },
  {
   "cell_type": "markdown",
   "id": "c4b286ab",
   "metadata": {},
   "source": [
    "## Correlation & Statistics"
   ]
  },
  {
   "cell_type": "code",
   "execution_count": null,
   "id": "4051b5b3",
   "metadata": {},
   "outputs": [],
   "source": [
    "method=widgets.Dropdown(\n",
    "    options=['box', 'hist', 'kde'],\n",
    "    value='kde',\n",
    "    description='method',\n",
    "    disabled=False,\n",
    ")\n",
    "position = widgets.Checkbox(\n",
    "    value=False,\n",
    "    description='Position',\n",
    "    disabled=False,\n",
    "    indent=False\n",
    ")\n",
    "\n",
    "wid = widgets.interactive_output(st.show_correlation_distribution, \n",
    "                       {'method': method,\n",
    "                        'position': position}\n",
    "                );\n",
    "\n",
    "display(widgets.HBox([method, position]))\n",
    "display(wid)"
   ]
  },
  {
   "cell_type": "code",
   "execution_count": null,
   "id": "ebb6ec29",
   "metadata": {},
   "outputs": [],
   "source": [
    "st.show_stats_distribution()"
   ]
  },
  {
   "cell_type": "code",
   "execution_count": null,
   "id": "892719ac",
   "metadata": {},
   "outputs": [],
   "source": [
    "widgets.interact(st.get_test, \n",
    "                 data_type=widgets.Dropdown(\n",
    "                     options=['corr', 'stat'],\n",
    "                     value='stat',\n",
    "                     description='data type',\n",
    "                     disabled=False,\n",
    "                 ),\n",
    "                 test_type=widgets.Dropdown(\n",
    "                     options=['norm', 'distr'],\n",
    "                     value='distr',\n",
    "                     description='test type',\n",
    "                     disabled=False,\n",
    "                 ),\n",
    "                );"
   ]
  },
  {
   "cell_type": "markdown",
   "id": "a87b3da0",
   "metadata": {},
   "source": [
    "## Correlation advanced"
   ]
  },
  {
   "cell_type": "code",
   "execution_count": null,
   "id": "b11cfc31",
   "metadata": {},
   "outputs": [],
   "source": [
    "q = widgets.FloatSlider(\n",
    "    value=0.9,\n",
    "    min=0,\n",
    "    max=1,\n",
    "    step=0.01,\n",
    "    description='q',\n",
    "    continuous_update=False,\n",
    "    readout=True,\n",
    ")\n",
    "position = widgets.Checkbox(\n",
    "    value=False,\n",
    "    description='Position',\n",
    "    disabled=False,\n",
    "    indent=False\n",
    ")\n",
    "\n",
    "wid = widgets.interactive_output(st.show_distribution_of_connectivity, \n",
    "                       {'q': q,\n",
    "                        'position': position}\n",
    "                );\n",
    "\n",
    "test = widgets.interact(st.get_connectivity_distr_test, \n",
    "                        q=q, \n",
    "                        position=position\n",
    "                );\n",
    "\n",
    "display(wid, test)"
   ]
  },
  {
   "cell_type": "code",
   "execution_count": null,
   "id": "9eb1f56c",
   "metadata": {},
   "outputs": [],
   "source": [
    "interval = widgets.FloatRangeSlider(\n",
    "    value=[0, 1],\n",
    "    min=0,\n",
    "    max=1,\n",
    "    step=0.001,\n",
    "    description='interval:',\n",
    "    disabled=False,\n",
    "    continuous_update=False,\n",
    "    orientation='horizontal',\n",
    "    readout=True,\n",
    "    readout_format='.3f',\n",
    ")\n",
    "\n",
    "step = widgets.FloatSlider(\n",
    "    value=10e-3,\n",
    "    min=10e-4,\n",
    "    max=0.1,\n",
    "    step=10e-4,\n",
    "    description='step',\n",
    "    continuous_update=False,\n",
    "    readout=True,\n",
    "    readout_format='.3f',\n",
    ")\n",
    "\n",
    "position = widgets.Checkbox(\n",
    "    value=False,\n",
    "    description='Position',\n",
    "    disabled=False,\n",
    "    indent=False\n",
    ")\n",
    "\n",
    "wid = widgets.interactive_output(st.show_degree_of_network, \n",
    "                       {'interval': interval,\n",
    "                        'step': step, \n",
    "                        'position': position}\n",
    "                );\n",
    "\n",
    "test = widgets.interact(st.get_connectivity_test, \n",
    "                        interval=interval,\n",
    "                        step=step, \n",
    "                        position=position\n",
    "                )\n",
    "\n",
    "display(wid, test)"
   ]
  },
  {
   "cell_type": "markdown",
   "id": "a59fb5dd",
   "metadata": {},
   "source": [
    "# Shuffling"
   ]
  },
  {
   "cell_type": "code",
   "execution_count": null,
   "id": "e5793026",
   "metadata": {},
   "outputs": [],
   "source": [
    "shuffle_fraction = 1.0 # [0, 1]"
   ]
  },
  {
   "cell_type": "code",
   "execution_count": null,
   "id": "3110de75",
   "metadata": {},
   "outputs": [],
   "source": [
    "sh = ShuffleAnalysis(path_to_data, dates, shuffle_fraction)"
   ]
  },
  {
   "cell_type": "code",
   "execution_count": null,
   "id": "1f7572b2",
   "metadata": {},
   "outputs": [],
   "source": [
    "widgets.interact(sh.show_shuffling, \n",
    "                 date=widgets.Dropdown(\n",
    "                     options=dates.keys(),\n",
    "                     description='Date',\n",
    "                     disabled=False,\n",
    "                 )\n",
    "                );"
   ]
  },
  {
   "cell_type": "code",
   "execution_count": null,
   "id": "c834db4a",
   "metadata": {},
   "outputs": [],
   "source": [
    "widgets.interact(sh.correlation_ptp, \n",
    "                 corr_type=widgets.Dropdown(\n",
    "                     options=['active', 'active_acc'],\n",
    "                     value='active',\n",
    "                     description='Correlation type',\n",
    "                     disabled=False,\n",
    "                 )\n",
    "                );"
   ]
  },
  {
   "cell_type": "code",
   "execution_count": null,
   "id": "cf9cd4bf",
   "metadata": {},
   "outputs": [],
   "source": [
    "widgets.interact(sh.statistic_info, \n",
    "                 stat_type=widgets.Dropdown(\n",
    "                     options=['network_spike_rate', 'network_spike_peak'],\n",
    "                     value='network_spike_rate',\n",
    "                     description='Statistic type',\n",
    "                     disabled=False,\n",
    "                 )\n",
    "                );"
   ]
  },
  {
   "cell_type": "code",
   "execution_count": null,
   "id": "d77ec91f",
   "metadata": {},
   "outputs": [],
   "source": []
  }
 ],
 "metadata": {
  "kernelspec": {
   "display_name": "Python 3 (ipykernel)",
   "language": "python",
   "name": "python3"
  },
  "language_info": {
   "codemirror_mode": {
    "name": "ipython",
    "version": 3
   },
   "file_extension": ".py",
   "mimetype": "text/x-python",
   "name": "python",
   "nbconvert_exporter": "python",
   "pygments_lexer": "ipython3",
   "version": "3.8.12"
  }
 },
 "nbformat": 4,
 "nbformat_minor": 5
}
